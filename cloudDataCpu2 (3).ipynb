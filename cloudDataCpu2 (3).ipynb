{
 "cells": [
  {
   "cell_type": "code",
   "execution_count": 6,
   "id": "b27abc22",
   "metadata": {
    "scrolled": true
   },
   "outputs": [
    {
     "name": "stdout",
     "output_type": "stream",
     "text": [
      "(8634, 1)\n"
     ]
    },
    {
     "data": {
      "text/html": [
       "<div>\n",
       "<style scoped>\n",
       "    .dataframe tbody tr th:only-of-type {\n",
       "        vertical-align: middle;\n",
       "    }\n",
       "\n",
       "    .dataframe tbody tr th {\n",
       "        vertical-align: top;\n",
       "    }\n",
       "\n",
       "    .dataframe thead th {\n",
       "        text-align: right;\n",
       "    }\n",
       "</style>\n",
       "<table border=\"1\" class=\"dataframe\">\n",
       "  <thead>\n",
       "    <tr style=\"text-align: right;\">\n",
       "      <th></th>\n",
       "      <th>cpu_usage</th>\n",
       "    </tr>\n",
       "  </thead>\n",
       "  <tbody>\n",
       "    <tr>\n",
       "      <th>0</th>\n",
       "      <td>10912.027692</td>\n",
       "    </tr>\n",
       "    <tr>\n",
       "      <th>1</th>\n",
       "      <td>10890.570362</td>\n",
       "    </tr>\n",
       "    <tr>\n",
       "      <th>2</th>\n",
       "      <td>10434.114431</td>\n",
       "    </tr>\n",
       "    <tr>\n",
       "      <th>3</th>\n",
       "      <td>10539.450415</td>\n",
       "    </tr>\n",
       "    <tr>\n",
       "      <th>4</th>\n",
       "      <td>10951.041020</td>\n",
       "    </tr>\n",
       "  </tbody>\n",
       "</table>\n",
       "</div>"
      ],
      "text/plain": [
       "      cpu_usage\n",
       "0  10912.027692\n",
       "1  10890.570362\n",
       "2  10434.114431\n",
       "3  10539.450415\n",
       "4  10951.041020"
      ]
     },
     "execution_count": 6,
     "metadata": {},
     "output_type": "execute_result"
    }
   ],
   "source": [
    "import math\n",
    "import matplotlib.pyplot as plt\n",
    "from tensorflow import keras\n",
    "import pandas as pd\n",
    "import numpy as np\n",
    "from keras.models import Sequential\n",
    "from keras.layers import Dense\n",
    "from keras.layers import LSTM\n",
    "from keras.layers import Dropout\n",
    "from keras.layers import *\n",
    "from sklearn.preprocessing import MinMaxScaler\n",
    "from sklearn.metrics import mean_squared_error\n",
    "from sklearn.metrics import mean_absolute_error\n",
    "from sklearn.model_selection import train_test_split\n",
    "from keras.callbacks import EarlyStopping\n",
    "df=pd.read_csv(\"/home/sh4n1/miniproj/h1cpudata.csv\")\n",
    "df=df.drop(['Timestamp'],axis=1)\n",
    "print(df.shape)\n",
    "df.head(5)"
   ]
  },
  {
   "cell_type": "code",
   "execution_count": 7,
   "id": "52c6d12c",
   "metadata": {},
   "outputs": [
    {
     "name": "stdout",
     "output_type": "stream",
     "text": [
      "[] 0       10912.027692\n",
      "1       10890.570362\n",
      "2       10434.114431\n",
      "3       10539.450415\n",
      "4       10951.041020\n",
      "            ...     \n",
      "8629       83.878654\n",
      "8630       81.927988\n",
      "8631       76.075989\n",
      "8632       85.829320\n",
      "8633       83.878654\n",
      "Name: cpu_usage, Length: 8634, dtype: float64\n"
     ]
    }
   ],
   "source": [
    "print(df.iloc[0:, 3:4].values,df['cpu_usage'])\n"
   ]
  },
  {
   "cell_type": "code",
   "execution_count": 8,
   "id": "dcaaea0f",
   "metadata": {},
   "outputs": [],
   "source": [
    "training_set = df.iloc[:6908, 3:4].values\n",
    "test_set = df.iloc[6908:, 3:4].values"
   ]
  },
  {
   "cell_type": "code",
   "execution_count": 9,
   "id": "069dc125",
   "metadata": {},
   "outputs": [],
   "source": [
    "# Feature Scaling\n",
    "sc = MinMaxScaler()\n",
    "training_set_scaled = sc.fit_transform(df)\n",
    "# Creating a data structure with 1 time-step and 1 output\n",
    "X_train = []\n",
    "y_train = []\n",
    "for i in range(1, 6908):\n",
    "    X_train.append(training_set_scaled[i-1:i, 0])\n",
    "    y_train.append(training_set_scaled[i, 0])\n",
    "X_train, y_train = np.array(X_train), np.array(y_train)\n",
    "X_train = np.reshape(X_train, (X_train.shape[0], X_train.shape[1], 1))\n",
    "#(740, 60, 1)"
   ]
  },
  {
   "cell_type": "code",
   "execution_count": 10,
   "id": "5e99cfd4",
   "metadata": {},
   "outputs": [
    {
     "name": "stderr",
     "output_type": "stream",
     "text": [
      "2021-11-10 18:01:34.229672: I tensorflow/stream_executor/cuda/cuda_gpu_executor.cc:937] successful NUMA node read from SysFS had negative value (-1), but there must be at least one NUMA node, so returning NUMA node zero\n",
      "2021-11-10 18:01:34.230844: W tensorflow/stream_executor/platform/default/dso_loader.cc:64] Could not load dynamic library 'libcudart.so.11.0'; dlerror: libcudart.so.11.0: cannot open shared object file: No such file or directory\n",
      "2021-11-10 18:01:34.231209: W tensorflow/stream_executor/platform/default/dso_loader.cc:64] Could not load dynamic library 'libcublas.so.11'; dlerror: libcublas.so.11: cannot open shared object file: No such file or directory\n",
      "2021-11-10 18:01:34.231355: W tensorflow/stream_executor/platform/default/dso_loader.cc:64] Could not load dynamic library 'libcublasLt.so.11'; dlerror: libcublasLt.so.11: cannot open shared object file: No such file or directory\n",
      "2021-11-10 18:01:34.231500: W tensorflow/stream_executor/platform/default/dso_loader.cc:64] Could not load dynamic library 'libcufft.so.10'; dlerror: libcufft.so.10: cannot open shared object file: No such file or directory\n",
      "2021-11-10 18:01:34.231633: W tensorflow/stream_executor/platform/default/dso_loader.cc:64] Could not load dynamic library 'libcurand.so.10'; dlerror: libcurand.so.10: cannot open shared object file: No such file or directory\n",
      "2021-11-10 18:01:34.231746: W tensorflow/stream_executor/platform/default/dso_loader.cc:64] Could not load dynamic library 'libcusolver.so.11'; dlerror: libcusolver.so.11: cannot open shared object file: No such file or directory\n",
      "2021-11-10 18:01:34.231850: W tensorflow/stream_executor/platform/default/dso_loader.cc:64] Could not load dynamic library 'libcusparse.so.11'; dlerror: libcusparse.so.11: cannot open shared object file: No such file or directory\n",
      "2021-11-10 18:01:34.231963: W tensorflow/stream_executor/platform/default/dso_loader.cc:64] Could not load dynamic library 'libcudnn.so.8'; dlerror: libcudnn.so.8: cannot open shared object file: No such file or directory\n",
      "2021-11-10 18:01:34.231978: W tensorflow/core/common_runtime/gpu/gpu_device.cc:1835] Cannot dlopen some GPU libraries. Please make sure the missing libraries mentioned above are installed properly if you would like to use GPU. Follow the guide at https://www.tensorflow.org/install/gpu for how to download and setup the required libraries for your platform.\n",
      "Skipping registering GPU devices...\n",
      "2021-11-10 18:01:34.232607: I tensorflow/core/platform/cpu_feature_guard.cc:142] This TensorFlow binary is optimized with oneAPI Deep Neural Network Library (oneDNN) to use the following CPU instructions in performance-critical operations:  AVX2 FMA\n",
      "To enable them in other operations, rebuild TensorFlow with the appropriate compiler flags.\n",
      "2021-11-10 18:01:35.373517: I tensorflow/compiler/mlir/mlir_graph_optimization_pass.cc:185] None of the MLIR Optimization Passes are enabled (registered 2)\n"
     ]
    },
    {
     "name": "stdout",
     "output_type": "stream",
     "text": [
      "Epoch 1/100\n",
      "216/216 [==============================] - 9s 13ms/step - loss: 0.0104\n",
      "Epoch 2/100\n",
      "216/216 [==============================] - 4s 16ms/step - loss: 0.0029\n",
      "Epoch 3/100\n",
      "216/216 [==============================] - 4s 16ms/step - loss: 0.0029\n",
      "Epoch 4/100\n",
      "216/216 [==============================] - 4s 16ms/step - loss: 0.0027\n",
      "Epoch 5/100\n",
      "216/216 [==============================] - 3s 16ms/step - loss: 0.0028\n",
      "Epoch 6/100\n",
      "216/216 [==============================] - 4s 17ms/step - loss: 0.0026\n",
      "Epoch 7/100\n",
      "216/216 [==============================] - 4s 17ms/step - loss: 0.0028\n",
      "Epoch 8/100\n",
      "216/216 [==============================] - 3s 16ms/step - loss: 0.0027\n",
      "Epoch 9/100\n",
      "216/216 [==============================] - 3s 16ms/step - loss: 0.0028\n",
      "Epoch 10/100\n",
      "216/216 [==============================] - 3s 16ms/step - loss: 0.0028\n",
      "Epoch 11/100\n",
      "216/216 [==============================] - 3s 16ms/step - loss: 0.0028\n",
      "Epoch 12/100\n",
      "216/216 [==============================] - 4s 16ms/step - loss: 0.0029\n",
      "Epoch 13/100\n",
      "216/216 [==============================] - 3s 16ms/step - loss: 0.0027\n",
      "Epoch 14/100\n",
      "216/216 [==============================] - 4s 16ms/step - loss: 0.0027\n",
      "Epoch 15/100\n",
      "216/216 [==============================] - 4s 16ms/step - loss: 0.0026\n",
      "Epoch 16/100\n",
      "216/216 [==============================] - 4s 17ms/step - loss: 0.0026\n",
      "Epoch 17/100\n",
      "216/216 [==============================] - 4s 17ms/step - loss: 0.0025\n",
      "Epoch 18/100\n",
      "216/216 [==============================] - 4s 17ms/step - loss: 0.0027\n",
      "Epoch 19/100\n",
      "216/216 [==============================] - 4s 18ms/step - loss: 0.0027\n",
      "Epoch 20/100\n",
      "216/216 [==============================] - 4s 17ms/step - loss: 0.0027\n",
      "Epoch 21/100\n",
      "216/216 [==============================] - 4s 16ms/step - loss: 0.0027\n",
      "Epoch 22/100\n",
      "216/216 [==============================] - 4s 16ms/step - loss: 0.0027\n",
      "Epoch 23/100\n",
      "216/216 [==============================] - 4s 17ms/step - loss: 0.0027\n",
      "Epoch 24/100\n",
      "216/216 [==============================] - 4s 16ms/step - loss: 0.0026\n",
      "Epoch 25/100\n",
      "216/216 [==============================] - 4s 16ms/step - loss: 0.0026\n",
      "Epoch 26/100\n",
      "216/216 [==============================] - 4s 16ms/step - loss: 0.0025\n",
      "Epoch 27/100\n",
      "216/216 [==============================] - 4s 16ms/step - loss: 0.0025\n",
      "Epoch 28/100\n",
      "216/216 [==============================] - 3s 16ms/step - loss: 0.0027\n",
      "Epoch 29/100\n",
      "216/216 [==============================] - 4s 17ms/step - loss: 0.0026\n",
      "Epoch 30/100\n",
      "216/216 [==============================] - 4s 17ms/step - loss: 0.0025\n",
      "Epoch 31/100\n",
      "216/216 [==============================] - 4s 17ms/step - loss: 0.0027\n",
      "Epoch 32/100\n",
      "216/216 [==============================] - 4s 16ms/step - loss: 0.0026\n",
      "Epoch 33/100\n",
      "216/216 [==============================] - 4s 17ms/step - loss: 0.0026\n",
      "Epoch 34/100\n",
      "216/216 [==============================] - 4s 17ms/step - loss: 0.0027\n",
      "Epoch 35/100\n",
      "216/216 [==============================] - 4s 16ms/step - loss: 0.0026\n",
      "Epoch 36/100\n",
      "216/216 [==============================] - 4s 17ms/step - loss: 0.0026\n",
      "Epoch 37/100\n",
      "216/216 [==============================] - 3s 14ms/step - loss: 0.0026\n",
      "Epoch 38/100\n",
      "216/216 [==============================] - 3s 16ms/step - loss: 0.0026\n",
      "Epoch 39/100\n",
      "216/216 [==============================] - 3s 15ms/step - loss: 0.0028\n",
      "Epoch 40/100\n",
      "216/216 [==============================] - 3s 16ms/step - loss: 0.0027\n",
      "Epoch 41/100\n",
      "216/216 [==============================] - 3s 15ms/step - loss: 0.0025\n",
      "Epoch 42/100\n",
      "216/216 [==============================] - 4s 17ms/step - loss: 0.0027\n",
      "Epoch 43/100\n",
      "216/216 [==============================] - 3s 15ms/step - loss: 0.0026\n",
      "Epoch 44/100\n",
      "216/216 [==============================] - 3s 15ms/step - loss: 0.0027\n",
      "Epoch 45/100\n",
      "216/216 [==============================] - 3s 15ms/step - loss: 0.0026\n",
      "Epoch 46/100\n",
      "216/216 [==============================] - 3s 15ms/step - loss: 0.0027\n",
      "Epoch 47/100\n",
      "216/216 [==============================] - 3s 15ms/step - loss: 0.0025\n",
      "Epoch 48/100\n",
      "216/216 [==============================] - 3s 14ms/step - loss: 0.0027\n",
      "Epoch 49/100\n",
      "216/216 [==============================] - 3s 16ms/step - loss: 0.0026\n",
      "Epoch 50/100\n",
      "216/216 [==============================] - 4s 18ms/step - loss: 0.0026\n",
      "Epoch 51/100\n",
      "216/216 [==============================] - 4s 17ms/step - loss: 0.0025\n",
      "Epoch 52/100\n",
      "216/216 [==============================] - 3s 15ms/step - loss: 0.0025\n",
      "Epoch 53/100\n",
      "216/216 [==============================] - 3s 16ms/step - loss: 0.0025\n",
      "Epoch 54/100\n",
      "216/216 [==============================] - 3s 15ms/step - loss: 0.0026\n",
      "Epoch 55/100\n",
      "216/216 [==============================] - 4s 20ms/step - loss: 0.0027\n",
      "Epoch 56/100\n",
      "216/216 [==============================] - 5s 21ms/step - loss: 0.0025\n",
      "Epoch 57/100\n",
      "216/216 [==============================] - 4s 20ms/step - loss: 0.0027\n",
      "Epoch 58/100\n",
      "216/216 [==============================] - 4s 21ms/step - loss: 0.0025\n",
      "Epoch 59/100\n",
      "216/216 [==============================] - 4s 20ms/step - loss: 0.0025\n",
      "Epoch 60/100\n",
      "216/216 [==============================] - 4s 20ms/step - loss: 0.0025\n",
      "Epoch 61/100\n",
      "216/216 [==============================] - 4s 18ms/step - loss: 0.0026\n",
      "Epoch 62/100\n",
      "216/216 [==============================] - 3s 16ms/step - loss: 0.0024\n",
      "Epoch 63/100\n",
      "216/216 [==============================] - 3s 16ms/step - loss: 0.0025\n",
      "Epoch 64/100\n",
      "216/216 [==============================] - 3s 16ms/step - loss: 0.0025\n",
      "Epoch 65/100\n",
      "216/216 [==============================] - 3s 15ms/step - loss: 0.0026\n",
      "Epoch 66/100\n",
      "216/216 [==============================] - 3s 16ms/step - loss: 0.0026\n",
      "Epoch 67/100\n",
      "216/216 [==============================] - 3s 16ms/step - loss: 0.0025\n",
      "Epoch 68/100\n",
      "216/216 [==============================] - 3s 16ms/step - loss: 0.0024\n",
      "Epoch 69/100\n",
      "216/216 [==============================] - 3s 15ms/step - loss: 0.0026\n",
      "Epoch 70/100\n",
      "216/216 [==============================] - 3s 16ms/step - loss: 0.0026\n",
      "Epoch 71/100\n",
      "216/216 [==============================] - 4s 17ms/step - loss: 0.0026\n",
      "Epoch 72/100\n",
      "216/216 [==============================] - 4s 19ms/step - loss: 0.0025\n",
      "Epoch 73/100\n",
      "216/216 [==============================] - 4s 19ms/step - loss: 0.0026\n",
      "Epoch 74/100\n",
      "216/216 [==============================] - 4s 19ms/step - loss: 0.0025\n",
      "Epoch 75/100\n",
      "216/216 [==============================] - 4s 17ms/step - loss: 0.0026\n",
      "Epoch 76/100\n",
      "216/216 [==============================] - 3s 16ms/step - loss: 0.0027\n",
      "Epoch 77/100\n",
      "216/216 [==============================] - 3s 13ms/step - loss: 0.0025\n",
      "Epoch 78/100\n",
      "216/216 [==============================] - 4s 18ms/step - loss: 0.0026\n",
      "Epoch 79/100\n",
      "216/216 [==============================] - 4s 17ms/step - loss: 0.0026\n",
      "Epoch 80/100\n",
      "216/216 [==============================] - 3s 15ms/step - loss: 0.0024\n",
      "Epoch 81/100\n",
      "216/216 [==============================] - 4s 18ms/step - loss: 0.0025\n",
      "Epoch 82/100\n",
      "216/216 [==============================] - 4s 17ms/step - loss: 0.0024\n",
      "Epoch 83/100\n",
      "216/216 [==============================] - 3s 16ms/step - loss: 0.0025\n",
      "Epoch 84/100\n",
      "216/216 [==============================] - 4s 20ms/step - loss: 0.0026\n",
      "Epoch 85/100\n",
      "216/216 [==============================] - 4s 19ms/step - loss: 0.0026\n",
      "Epoch 86/100\n",
      "216/216 [==============================] - 4s 19ms/step - loss: 0.0025\n",
      "Epoch 87/100\n",
      "216/216 [==============================] - 4s 19ms/step - loss: 0.0025\n",
      "Epoch 88/100\n",
      "216/216 [==============================] - 4s 19ms/step - loss: 0.0024\n",
      "Epoch 89/100\n",
      "216/216 [==============================] - 4s 19ms/step - loss: 0.0025\n",
      "Epoch 90/100\n",
      "216/216 [==============================] - 4s 19ms/step - loss: 0.0025\n",
      "Epoch 91/100\n",
      "216/216 [==============================] - 4s 19ms/step - loss: 0.0024\n",
      "Epoch 92/100\n",
      "216/216 [==============================] - 4s 19ms/step - loss: 0.0025\n",
      "Epoch 93/100\n",
      "216/216 [==============================] - 4s 19ms/step - loss: 0.0025\n",
      "Epoch 94/100\n",
      "216/216 [==============================] - 4s 19ms/step - loss: 0.0026\n",
      "Epoch 95/100\n",
      "216/216 [==============================] - 4s 19ms/step - loss: 0.0025\n",
      "Epoch 96/100\n",
      "216/216 [==============================] - 4s 19ms/step - loss: 0.0026\n",
      "Epoch 97/100\n",
      "216/216 [==============================] - 4s 19ms/step - loss: 0.0026\n",
      "Epoch 98/100\n"
     ]
    },
    {
     "name": "stdout",
     "output_type": "stream",
     "text": [
      "216/216 [==============================] - 4s 18ms/step - loss: 0.0025\n",
      "Epoch 99/100\n",
      "216/216 [==============================] - 4s 18ms/step - loss: 0.0026\n",
      "Epoch 100/100\n",
      "216/216 [==============================] - 4s 17ms/step - loss: 0.0026\n"
     ]
    },
    {
     "data": {
      "text/plain": [
       "<keras.callbacks.History at 0x7fe842196910>"
      ]
     },
     "execution_count": 10,
     "metadata": {},
     "output_type": "execute_result"
    }
   ],
   "source": [
    "model = Sequential()\n",
    "#Adding the first LSTM layer and some Dropout regularisation\n",
    "model.add(LSTM(units = 50, return_sequences = True, input_shape = (X_train.shape[1], 1)))\n",
    "model.add(Dropout(0.2))\n",
    "# Adding a second LSTM layer and some Dropout regularisation\n",
    "model.add(LSTM(units = 50, return_sequences = True))\n",
    "model.add(Dropout(0.2))\n",
    "# Adding a third LSTM layer and some Dropout regularisation\n",
    "model.add(LSTM(units = 50, return_sequences = True))\n",
    "model.add(Dropout(0.2))\n",
    "# Adding a fourth LSTM layer and some Dropout regularisation\n",
    "model.add(LSTM(units = 50))\n",
    "model.add(Dropout(0.2))\n",
    "# Adding the output layer\n",
    "model.add(Dense(units = 1))\n",
    "\n",
    "# Compiling the RNN\n",
    "model.compile(optimizer = 'adam', loss = 'mean_squared_error')\n",
    "\n",
    "# Fitting the RNN to the Training set\n",
    "model.fit(X_train, y_train, epochs = 100, batch_size = 32)\n",
    "\n",
    "\n"
   ]
  },
  {
   "cell_type": "code",
   "execution_count": 20,
   "id": "a3d24f75",
   "metadata": {},
   "outputs": [
    {
     "data": {
      "text/plain": [
       "(6907, 1, 1)"
      ]
     },
     "execution_count": 20,
     "metadata": {},
     "output_type": "execute_result"
    }
   ],
   "source": [
    "X_train.shape"
   ]
  },
  {
   "cell_type": "code",
   "execution_count": 12,
   "id": "bb764dc8",
   "metadata": {
    "scrolled": true
   },
   "outputs": [
    {
     "name": "stdout",
     "output_type": "stream",
     "text": [
      "                 0          1\n",
      "0     10912.027692        NaN\n",
      "1     10890.570362        NaN\n",
      "2     10434.114431        NaN\n",
      "3     10539.450415        NaN\n",
      "4     10951.041020        NaN\n",
      "...            ...        ...\n",
      "8629           NaN  83.878654\n",
      "8630           NaN  81.927988\n",
      "8631           NaN  76.075989\n",
      "8632           NaN  85.829320\n",
      "8633           NaN  83.878654\n",
      "\n",
      "[8634 rows x 2 columns]\n",
      "[[79.97732131         nan]\n",
      " [        nan 83.87865405]\n",
      " [        nan 68.27332307]\n",
      " ...\n",
      " [        nan 76.07598856]\n",
      " [        nan 85.82932043]\n",
      " [        nan 83.87865405]]\n",
      "[[79.97732131]\n",
      " [        nan]\n",
      " [        nan]\n",
      " ...\n",
      " [85.82932043]\n",
      " [        nan]\n",
      " [83.87865405]]\n",
      "[[0.00188292]\n",
      " [       nan]\n",
      " [       nan]\n",
      " ...\n",
      " [0.00239644]\n",
      " [       nan]\n",
      " [0.00222527]]\n"
     ]
    },
    {
     "name": "stderr",
     "output_type": "stream",
     "text": [
      "/home/sh4n1/.local/lib/python3.9/site-packages/sklearn/base.py:445: UserWarning: X does not have valid feature names, but MinMaxScaler was fitted with feature names\n",
      "  warnings.warn(\n"
     ]
    }
   ],
   "source": [
    "dataset_train = df.iloc[:6908]\n",
    "dataset_test = df.iloc[6908:]\n",
    "dataset_total = pd.concat((dataset_train, dataset_test), axis = 1,ignore_index = True)\n",
    "print(dataset_total)\n",
    "\n",
    "inputs = dataset_total[len(dataset_total) - len(dataset_test) - 1:].values\n",
    "print(inputs)\n",
    "inputs.shape\n",
    "\n",
    "inputs = inputs.reshape(-1,1)\n",
    "print(inputs)\n",
    "\n",
    "inputs = sc.transform(inputs)\n",
    "print(inputs)"
   ]
  },
  {
   "cell_type": "code",
   "execution_count": 19,
   "id": "d31af592",
   "metadata": {
    "scrolled": true
   },
   "outputs": [
    {
     "name": "stdout",
     "output_type": "stream",
     "text": [
      "[[0.00188292]\n",
      " [0.00222527]\n",
      " [0.00085587]\n",
      " ...\n",
      " [0.00154057]\n",
      " [0.00239644]\n",
      " [0.00222527]]\n",
      "[]\n",
      "(1726, 0, 1)\n"
     ]
    },
    {
     "name": "stderr",
     "output_type": "stream",
     "text": [
      "/home/sh4n1/.local/lib/python3.9/site-packages/sklearn/base.py:445: UserWarning: X does not have valid feature names, but MinMaxScaler was fitted with feature names\n",
      "  warnings.warn(\n"
     ]
    }
   ],
   "source": [
    "# Getting the predicted stock price of 2017\n",
    "dataset_train = df.iloc[:6908,0]\n",
    "dataset_test = df.iloc[6908:,0]\n",
    "dataset_total = pd.concat((dataset_train, dataset_test), axis = 0,ignore_index = True)\n",
    "inputs = dataset_total[len(dataset_total) - len(dataset_test) - 1:].values\n",
    "#inputs = dataset_train.values\n",
    "inputs = inputs.reshape(-1,1)\n",
    "inputs = sc.transform(inputs)\n",
    "print(inputs)\n",
    "X_test = []\n",
    "for i in range(6908,8634):\n",
    "    X_test.append(inputs[i-1:i,0])\n",
    "X_test = np.array(X_test)\n",
    "print(X_test)\n",
    "X_test = np.reshape(X_test, (X_test.shape[0], X_test.shape[1], 1))\n",
    "print(X_test.shape)\n",
    "# (459, 60, 1)"
   ]
  },
  {
   "cell_type": "code",
   "execution_count": 17,
   "id": "1414c298",
   "metadata": {},
   "outputs": [
    {
     "name": "stdout",
     "output_type": "stream",
     "text": [
      "WARNING:tensorflow:Model was constructed with shape (None, 1, 1) for input KerasTensor(type_spec=TensorSpec(shape=(None, 1, 1), dtype=tf.float32, name='lstm_input'), name='lstm_input', description=\"created by layer 'lstm_input'\"), but it was called on an input with incompatible shape (None, 0, 1).\n"
     ]
    },
    {
     "ename": "ValueError",
     "evalue": "in user code:\n\n    /home/sh4n1/.local/lib/python3.9/site-packages/keras/engine/training.py:1586 predict_function  *\n        return step_function(self, iterator)\n    /home/sh4n1/.local/lib/python3.9/site-packages/keras/engine/training.py:1576 step_function  **\n        outputs = model.distribute_strategy.run(run_step, args=(data,))\n    /home/sh4n1/.local/lib/python3.9/site-packages/tensorflow/python/distribute/distribute_lib.py:1286 run\n        return self._extended.call_for_each_replica(fn, args=args, kwargs=kwargs)\n    /home/sh4n1/.local/lib/python3.9/site-packages/tensorflow/python/distribute/distribute_lib.py:2849 call_for_each_replica\n        return self._call_for_each_replica(fn, args, kwargs)\n    /home/sh4n1/.local/lib/python3.9/site-packages/tensorflow/python/distribute/distribute_lib.py:3632 _call_for_each_replica\n        return fn(*args, **kwargs)\n    /home/sh4n1/.local/lib/python3.9/site-packages/keras/engine/training.py:1569 run_step  **\n        outputs = model.predict_step(data)\n    /home/sh4n1/.local/lib/python3.9/site-packages/keras/engine/training.py:1537 predict_step\n        return self(x, training=False)\n    /home/sh4n1/.local/lib/python3.9/site-packages/keras/engine/base_layer.py:1037 __call__\n        outputs = call_fn(inputs, *args, **kwargs)\n    /home/sh4n1/.local/lib/python3.9/site-packages/keras/engine/sequential.py:369 call\n        return super(Sequential, self).call(inputs, training=training, mask=mask)\n    /home/sh4n1/.local/lib/python3.9/site-packages/keras/engine/functional.py:414 call\n        return self._run_internal_graph(\n    /home/sh4n1/.local/lib/python3.9/site-packages/keras/engine/functional.py:550 _run_internal_graph\n        outputs = node.layer(*args, **kwargs)\n    /home/sh4n1/.local/lib/python3.9/site-packages/keras/layers/recurrent.py:659 __call__\n        return super(RNN, self).__call__(inputs, **kwargs)\n    /home/sh4n1/.local/lib/python3.9/site-packages/keras/engine/base_layer.py:1037 __call__\n        outputs = call_fn(inputs, *args, **kwargs)\n    /home/sh4n1/.local/lib/python3.9/site-packages/keras/layers/recurrent_v2.py:1253 call\n        runtime) = lstm_with_backend_selection(**normal_lstm_kwargs)\n    /home/sh4n1/.local/lib/python3.9/site-packages/keras/layers/recurrent_v2.py:1648 lstm_with_backend_selection\n        last_output, outputs, new_h, new_c, runtime = defun_standard_lstm(**params)\n    /home/sh4n1/.local/lib/python3.9/site-packages/tensorflow/python/eager/function.py:3038 __call__\n        filtered_flat_args) = self._maybe_define_function(args, kwargs)\n    /home/sh4n1/.local/lib/python3.9/site-packages/tensorflow/python/eager/function.py:3463 _maybe_define_function\n        graph_function = self._create_graph_function(args, kwargs)\n    /home/sh4n1/.local/lib/python3.9/site-packages/tensorflow/python/eager/function.py:3298 _create_graph_function\n        func_graph_module.func_graph_from_py_func(\n    /home/sh4n1/.local/lib/python3.9/site-packages/tensorflow/python/framework/func_graph.py:1007 func_graph_from_py_func\n        func_outputs = python_func(*func_args, **func_kwargs)\n    /home/sh4n1/.local/lib/python3.9/site-packages/keras/layers/recurrent_v2.py:1379 standard_lstm\n        last_output, outputs, new_states = backend.rnn(\n    /home/sh4n1/.local/lib/python3.9/site-packages/tensorflow/python/util/dispatch.py:206 wrapper\n        return target(*args, **kwargs)\n    /home/sh4n1/.local/lib/python3.9/site-packages/keras/backend.py:4351 rnn\n        [inp[0] for inp in flatted_inputs])\n    /home/sh4n1/.local/lib/python3.9/site-packages/keras/backend.py:4351 <listcomp>\n        [inp[0] for inp in flatted_inputs])\n    /home/sh4n1/.local/lib/python3.9/site-packages/tensorflow/python/util/dispatch.py:206 wrapper\n        return target(*args, **kwargs)\n    /home/sh4n1/.local/lib/python3.9/site-packages/tensorflow/python/ops/array_ops.py:1041 _slice_helper\n        return strided_slice(\n    /home/sh4n1/.local/lib/python3.9/site-packages/tensorflow/python/util/dispatch.py:206 wrapper\n        return target(*args, **kwargs)\n    /home/sh4n1/.local/lib/python3.9/site-packages/tensorflow/python/ops/array_ops.py:1214 strided_slice\n        op = gen_array_ops.strided_slice(\n    /home/sh4n1/.local/lib/python3.9/site-packages/tensorflow/python/ops/gen_array_ops.py:10538 strided_slice\n        _, _, _op, _outputs = _op_def_library._apply_op_helper(\n    /home/sh4n1/.local/lib/python3.9/site-packages/tensorflow/python/framework/op_def_library.py:748 _apply_op_helper\n        op = g._create_op_internal(op_type_name, inputs, dtypes=None,\n    /home/sh4n1/.local/lib/python3.9/site-packages/tensorflow/python/framework/func_graph.py:599 _create_op_internal\n        return super(FuncGraph, self)._create_op_internal(  # pylint: disable=protected-access\n    /home/sh4n1/.local/lib/python3.9/site-packages/tensorflow/python/framework/ops.py:3561 _create_op_internal\n        ret = Operation(\n    /home/sh4n1/.local/lib/python3.9/site-packages/tensorflow/python/framework/ops.py:2041 __init__\n        self._c_op = _create_c_op(self._graph, node_def, inputs,\n    /home/sh4n1/.local/lib/python3.9/site-packages/tensorflow/python/framework/ops.py:1883 _create_c_op\n        raise ValueError(str(e))\n\n    ValueError: slice index 0 of dimension 0 out of bounds. for '{{node strided_slice_1}} = StridedSlice[Index=DT_INT32, T=DT_FLOAT, begin_mask=0, ellipsis_mask=0, end_mask=0, new_axis_mask=0, shrink_axis_mask=1](transpose, strided_slice_1/stack, strided_slice_1/stack_1, strided_slice_1/stack_2)' with input shapes: [0,?,1], [1], [1], [1] and with computed input tensors: input[1] = <0>, input[2] = <1>, input[3] = <1>.\n",
     "output_type": "error",
     "traceback": [
      "\u001b[0;31m---------------------------------------------------------------------------\u001b[0m",
      "\u001b[0;31mValueError\u001b[0m                                Traceback (most recent call last)",
      "\u001b[0;32m/tmp/ipykernel_3229/1513304661.py\u001b[0m in \u001b[0;36m<module>\u001b[0;34m\u001b[0m\n\u001b[1;32m      1\u001b[0m \u001b[0;31m#import torch\u001b[0m\u001b[0;34m\u001b[0m\u001b[0;34m\u001b[0m\u001b[0m\n\u001b[0;32m----> 2\u001b[0;31m \u001b[0mpredicted_cpu_usage\u001b[0m\u001b[0;34m=\u001b[0m \u001b[0mmodel\u001b[0m\u001b[0;34m.\u001b[0m\u001b[0mpredict\u001b[0m\u001b[0;34m(\u001b[0m\u001b[0mX_test\u001b[0m\u001b[0;34m)\u001b[0m\u001b[0;34m\u001b[0m\u001b[0;34m\u001b[0m\u001b[0m\n\u001b[0m\u001b[1;32m      3\u001b[0m \u001b[0mpredicted_cpu_usage\u001b[0m \u001b[0;34m=\u001b[0m \u001b[0msc\u001b[0m\u001b[0;34m.\u001b[0m\u001b[0minverse_transform\u001b[0m\u001b[0;34m(\u001b[0m\u001b[0mpredicted_cpu_usage\u001b[0m\u001b[0;34m)\u001b[0m\u001b[0;34m\u001b[0m\u001b[0;34m\u001b[0m\u001b[0m\n",
      "\u001b[0;32m~/.local/lib/python3.9/site-packages/keras/engine/training.py\u001b[0m in \u001b[0;36mpredict\u001b[0;34m(self, x, batch_size, verbose, steps, callbacks, max_queue_size, workers, use_multiprocessing)\u001b[0m\n\u001b[1;32m   1749\u001b[0m           \u001b[0;32mfor\u001b[0m \u001b[0mstep\u001b[0m \u001b[0;32min\u001b[0m \u001b[0mdata_handler\u001b[0m\u001b[0;34m.\u001b[0m\u001b[0msteps\u001b[0m\u001b[0;34m(\u001b[0m\u001b[0;34m)\u001b[0m\u001b[0;34m:\u001b[0m\u001b[0;34m\u001b[0m\u001b[0;34m\u001b[0m\u001b[0m\n\u001b[1;32m   1750\u001b[0m             \u001b[0mcallbacks\u001b[0m\u001b[0;34m.\u001b[0m\u001b[0mon_predict_batch_begin\u001b[0m\u001b[0;34m(\u001b[0m\u001b[0mstep\u001b[0m\u001b[0;34m)\u001b[0m\u001b[0;34m\u001b[0m\u001b[0;34m\u001b[0m\u001b[0m\n\u001b[0;32m-> 1751\u001b[0;31m             \u001b[0mtmp_batch_outputs\u001b[0m \u001b[0;34m=\u001b[0m \u001b[0mself\u001b[0m\u001b[0;34m.\u001b[0m\u001b[0mpredict_function\u001b[0m\u001b[0;34m(\u001b[0m\u001b[0miterator\u001b[0m\u001b[0;34m)\u001b[0m\u001b[0;34m\u001b[0m\u001b[0;34m\u001b[0m\u001b[0m\n\u001b[0m\u001b[1;32m   1752\u001b[0m             \u001b[0;32mif\u001b[0m \u001b[0mdata_handler\u001b[0m\u001b[0;34m.\u001b[0m\u001b[0mshould_sync\u001b[0m\u001b[0;34m:\u001b[0m\u001b[0;34m\u001b[0m\u001b[0;34m\u001b[0m\u001b[0m\n\u001b[1;32m   1753\u001b[0m               \u001b[0mcontext\u001b[0m\u001b[0;34m.\u001b[0m\u001b[0masync_wait\u001b[0m\u001b[0;34m(\u001b[0m\u001b[0;34m)\u001b[0m\u001b[0;34m\u001b[0m\u001b[0;34m\u001b[0m\u001b[0m\n",
      "\u001b[0;32m~/.local/lib/python3.9/site-packages/tensorflow/python/eager/def_function.py\u001b[0m in \u001b[0;36m__call__\u001b[0;34m(self, *args, **kwds)\u001b[0m\n\u001b[1;32m    883\u001b[0m \u001b[0;34m\u001b[0m\u001b[0m\n\u001b[1;32m    884\u001b[0m       \u001b[0;32mwith\u001b[0m \u001b[0mOptionalXlaContext\u001b[0m\u001b[0;34m(\u001b[0m\u001b[0mself\u001b[0m\u001b[0;34m.\u001b[0m\u001b[0m_jit_compile\u001b[0m\u001b[0;34m)\u001b[0m\u001b[0;34m:\u001b[0m\u001b[0;34m\u001b[0m\u001b[0;34m\u001b[0m\u001b[0m\n\u001b[0;32m--> 885\u001b[0;31m         \u001b[0mresult\u001b[0m \u001b[0;34m=\u001b[0m \u001b[0mself\u001b[0m\u001b[0;34m.\u001b[0m\u001b[0m_call\u001b[0m\u001b[0;34m(\u001b[0m\u001b[0;34m*\u001b[0m\u001b[0margs\u001b[0m\u001b[0;34m,\u001b[0m \u001b[0;34m**\u001b[0m\u001b[0mkwds\u001b[0m\u001b[0;34m)\u001b[0m\u001b[0;34m\u001b[0m\u001b[0;34m\u001b[0m\u001b[0m\n\u001b[0m\u001b[1;32m    886\u001b[0m \u001b[0;34m\u001b[0m\u001b[0m\n\u001b[1;32m    887\u001b[0m       \u001b[0mnew_tracing_count\u001b[0m \u001b[0;34m=\u001b[0m \u001b[0mself\u001b[0m\u001b[0;34m.\u001b[0m\u001b[0mexperimental_get_tracing_count\u001b[0m\u001b[0;34m(\u001b[0m\u001b[0;34m)\u001b[0m\u001b[0;34m\u001b[0m\u001b[0;34m\u001b[0m\u001b[0m\n",
      "\u001b[0;32m~/.local/lib/python3.9/site-packages/tensorflow/python/eager/def_function.py\u001b[0m in \u001b[0;36m_call\u001b[0;34m(self, *args, **kwds)\u001b[0m\n\u001b[1;32m    922\u001b[0m       \u001b[0;31m# In this case we have not created variables on the first call. So we can\u001b[0m\u001b[0;34m\u001b[0m\u001b[0;34m\u001b[0m\u001b[0m\n\u001b[1;32m    923\u001b[0m       \u001b[0;31m# run the first trace but we should fail if variables are created.\u001b[0m\u001b[0;34m\u001b[0m\u001b[0;34m\u001b[0m\u001b[0m\n\u001b[0;32m--> 924\u001b[0;31m       \u001b[0mresults\u001b[0m \u001b[0;34m=\u001b[0m \u001b[0mself\u001b[0m\u001b[0;34m.\u001b[0m\u001b[0m_stateful_fn\u001b[0m\u001b[0;34m(\u001b[0m\u001b[0;34m*\u001b[0m\u001b[0margs\u001b[0m\u001b[0;34m,\u001b[0m \u001b[0;34m**\u001b[0m\u001b[0mkwds\u001b[0m\u001b[0;34m)\u001b[0m\u001b[0;34m\u001b[0m\u001b[0;34m\u001b[0m\u001b[0m\n\u001b[0m\u001b[1;32m    925\u001b[0m       \u001b[0;32mif\u001b[0m \u001b[0mself\u001b[0m\u001b[0;34m.\u001b[0m\u001b[0m_created_variables\u001b[0m \u001b[0;32mand\u001b[0m \u001b[0;32mnot\u001b[0m \u001b[0mALLOW_DYNAMIC_VARIABLE_CREATION\u001b[0m\u001b[0;34m:\u001b[0m\u001b[0;34m\u001b[0m\u001b[0;34m\u001b[0m\u001b[0m\n\u001b[1;32m    926\u001b[0m         raise ValueError(\"Creating variables on a non-first call to a function\"\n",
      "\u001b[0;32m~/.local/lib/python3.9/site-packages/tensorflow/python/eager/function.py\u001b[0m in \u001b[0;36m__call__\u001b[0;34m(self, *args, **kwargs)\u001b[0m\n\u001b[1;32m   3036\u001b[0m     \u001b[0;32mwith\u001b[0m \u001b[0mself\u001b[0m\u001b[0;34m.\u001b[0m\u001b[0m_lock\u001b[0m\u001b[0;34m:\u001b[0m\u001b[0;34m\u001b[0m\u001b[0;34m\u001b[0m\u001b[0m\n\u001b[1;32m   3037\u001b[0m       (graph_function,\n\u001b[0;32m-> 3038\u001b[0;31m        filtered_flat_args) = self._maybe_define_function(args, kwargs)\n\u001b[0m\u001b[1;32m   3039\u001b[0m     return graph_function._call_flat(\n\u001b[1;32m   3040\u001b[0m         filtered_flat_args, captured_inputs=graph_function.captured_inputs)  # pylint: disable=protected-access\n",
      "\u001b[0;32m~/.local/lib/python3.9/site-packages/tensorflow/python/eager/function.py\u001b[0m in \u001b[0;36m_maybe_define_function\u001b[0;34m(self, args, kwargs)\u001b[0m\n\u001b[1;32m   3457\u001b[0m               \u001b[0mself\u001b[0m\u001b[0;34m.\u001b[0m\u001b[0minput_signature\u001b[0m \u001b[0;32mis\u001b[0m \u001b[0;32mNone\u001b[0m \u001b[0;32mand\u001b[0m\u001b[0;34m\u001b[0m\u001b[0;34m\u001b[0m\u001b[0m\n\u001b[1;32m   3458\u001b[0m               call_context_key in self._function_cache.missed):\n\u001b[0;32m-> 3459\u001b[0;31m             return self._define_function_with_shape_relaxation(\n\u001b[0m\u001b[1;32m   3460\u001b[0m                 args, kwargs, flat_args, filtered_flat_args, cache_key_context)\n\u001b[1;32m   3461\u001b[0m \u001b[0;34m\u001b[0m\u001b[0m\n",
      "\u001b[0;32m~/.local/lib/python3.9/site-packages/tensorflow/python/eager/function.py\u001b[0m in \u001b[0;36m_define_function_with_shape_relaxation\u001b[0;34m(self, args, kwargs, flat_args, filtered_flat_args, cache_key_context)\u001b[0m\n\u001b[1;32m   3379\u001b[0m           expand_composites=True)\n\u001b[1;32m   3380\u001b[0m \u001b[0;34m\u001b[0m\u001b[0m\n\u001b[0;32m-> 3381\u001b[0;31m     graph_function = self._create_graph_function(\n\u001b[0m\u001b[1;32m   3382\u001b[0m         args, kwargs, override_flat_arg_shapes=relaxed_arg_shapes)\n\u001b[1;32m   3383\u001b[0m     \u001b[0mself\u001b[0m\u001b[0;34m.\u001b[0m\u001b[0m_function_cache\u001b[0m\u001b[0;34m.\u001b[0m\u001b[0marg_relaxed\u001b[0m\u001b[0;34m[\u001b[0m\u001b[0mrank_only_cache_key\u001b[0m\u001b[0;34m]\u001b[0m \u001b[0;34m=\u001b[0m \u001b[0mgraph_function\u001b[0m\u001b[0;34m\u001b[0m\u001b[0;34m\u001b[0m\u001b[0m\n",
      "\u001b[0;32m~/.local/lib/python3.9/site-packages/tensorflow/python/eager/function.py\u001b[0m in \u001b[0;36m_create_graph_function\u001b[0;34m(self, args, kwargs, override_flat_arg_shapes)\u001b[0m\n\u001b[1;32m   3296\u001b[0m     \u001b[0marg_names\u001b[0m \u001b[0;34m=\u001b[0m \u001b[0mbase_arg_names\u001b[0m \u001b[0;34m+\u001b[0m \u001b[0mmissing_arg_names\u001b[0m\u001b[0;34m\u001b[0m\u001b[0;34m\u001b[0m\u001b[0m\n\u001b[1;32m   3297\u001b[0m     graph_function = ConcreteFunction(\n\u001b[0;32m-> 3298\u001b[0;31m         func_graph_module.func_graph_from_py_func(\n\u001b[0m\u001b[1;32m   3299\u001b[0m             \u001b[0mself\u001b[0m\u001b[0;34m.\u001b[0m\u001b[0m_name\u001b[0m\u001b[0;34m,\u001b[0m\u001b[0;34m\u001b[0m\u001b[0;34m\u001b[0m\u001b[0m\n\u001b[1;32m   3300\u001b[0m             \u001b[0mself\u001b[0m\u001b[0;34m.\u001b[0m\u001b[0m_python_function\u001b[0m\u001b[0;34m,\u001b[0m\u001b[0;34m\u001b[0m\u001b[0;34m\u001b[0m\u001b[0m\n",
      "\u001b[0;32m~/.local/lib/python3.9/site-packages/tensorflow/python/framework/func_graph.py\u001b[0m in \u001b[0;36mfunc_graph_from_py_func\u001b[0;34m(name, python_func, args, kwargs, signature, func_graph, autograph, autograph_options, add_control_dependencies, arg_names, op_return_value, collections, capture_by_value, override_flat_arg_shapes, acd_record_initial_resource_uses)\u001b[0m\n\u001b[1;32m   1005\u001b[0m         \u001b[0m_\u001b[0m\u001b[0;34m,\u001b[0m \u001b[0moriginal_func\u001b[0m \u001b[0;34m=\u001b[0m \u001b[0mtf_decorator\u001b[0m\u001b[0;34m.\u001b[0m\u001b[0munwrap\u001b[0m\u001b[0;34m(\u001b[0m\u001b[0mpython_func\u001b[0m\u001b[0;34m)\u001b[0m\u001b[0;34m\u001b[0m\u001b[0;34m\u001b[0m\u001b[0m\n\u001b[1;32m   1006\u001b[0m \u001b[0;34m\u001b[0m\u001b[0m\n\u001b[0;32m-> 1007\u001b[0;31m       \u001b[0mfunc_outputs\u001b[0m \u001b[0;34m=\u001b[0m \u001b[0mpython_func\u001b[0m\u001b[0;34m(\u001b[0m\u001b[0;34m*\u001b[0m\u001b[0mfunc_args\u001b[0m\u001b[0;34m,\u001b[0m \u001b[0;34m**\u001b[0m\u001b[0mfunc_kwargs\u001b[0m\u001b[0;34m)\u001b[0m\u001b[0;34m\u001b[0m\u001b[0;34m\u001b[0m\u001b[0m\n\u001b[0m\u001b[1;32m   1008\u001b[0m \u001b[0;34m\u001b[0m\u001b[0m\n\u001b[1;32m   1009\u001b[0m       \u001b[0;31m# invariant: `func_outputs` contains only Tensors, CompositeTensors,\u001b[0m\u001b[0;34m\u001b[0m\u001b[0;34m\u001b[0m\u001b[0m\n",
      "\u001b[0;32m~/.local/lib/python3.9/site-packages/tensorflow/python/eager/def_function.py\u001b[0m in \u001b[0;36mwrapped_fn\u001b[0;34m(*args, **kwds)\u001b[0m\n\u001b[1;32m    666\u001b[0m         \u001b[0;31m# the function a weak reference to itself to avoid a reference cycle.\u001b[0m\u001b[0;34m\u001b[0m\u001b[0;34m\u001b[0m\u001b[0m\n\u001b[1;32m    667\u001b[0m         \u001b[0;32mwith\u001b[0m \u001b[0mOptionalXlaContext\u001b[0m\u001b[0;34m(\u001b[0m\u001b[0mcompile_with_xla\u001b[0m\u001b[0;34m)\u001b[0m\u001b[0;34m:\u001b[0m\u001b[0;34m\u001b[0m\u001b[0;34m\u001b[0m\u001b[0m\n\u001b[0;32m--> 668\u001b[0;31m           \u001b[0mout\u001b[0m \u001b[0;34m=\u001b[0m \u001b[0mweak_wrapped_fn\u001b[0m\u001b[0;34m(\u001b[0m\u001b[0;34m)\u001b[0m\u001b[0;34m.\u001b[0m\u001b[0m__wrapped__\u001b[0m\u001b[0;34m(\u001b[0m\u001b[0;34m*\u001b[0m\u001b[0margs\u001b[0m\u001b[0;34m,\u001b[0m \u001b[0;34m**\u001b[0m\u001b[0mkwds\u001b[0m\u001b[0;34m)\u001b[0m\u001b[0;34m\u001b[0m\u001b[0;34m\u001b[0m\u001b[0m\n\u001b[0m\u001b[1;32m    669\u001b[0m         \u001b[0;32mreturn\u001b[0m \u001b[0mout\u001b[0m\u001b[0;34m\u001b[0m\u001b[0;34m\u001b[0m\u001b[0m\n\u001b[1;32m    670\u001b[0m \u001b[0;34m\u001b[0m\u001b[0m\n",
      "\u001b[0;32m~/.local/lib/python3.9/site-packages/tensorflow/python/framework/func_graph.py\u001b[0m in \u001b[0;36mwrapper\u001b[0;34m(*args, **kwargs)\u001b[0m\n\u001b[1;32m    992\u001b[0m           \u001b[0;32mexcept\u001b[0m \u001b[0mException\u001b[0m \u001b[0;32mas\u001b[0m \u001b[0me\u001b[0m\u001b[0;34m:\u001b[0m  \u001b[0;31m# pylint:disable=broad-except\u001b[0m\u001b[0;34m\u001b[0m\u001b[0;34m\u001b[0m\u001b[0m\n\u001b[1;32m    993\u001b[0m             \u001b[0;32mif\u001b[0m \u001b[0mhasattr\u001b[0m\u001b[0;34m(\u001b[0m\u001b[0me\u001b[0m\u001b[0;34m,\u001b[0m \u001b[0;34m\"ag_error_metadata\"\u001b[0m\u001b[0;34m)\u001b[0m\u001b[0;34m:\u001b[0m\u001b[0;34m\u001b[0m\u001b[0;34m\u001b[0m\u001b[0m\n\u001b[0;32m--> 994\u001b[0;31m               \u001b[0;32mraise\u001b[0m \u001b[0me\u001b[0m\u001b[0;34m.\u001b[0m\u001b[0mag_error_metadata\u001b[0m\u001b[0;34m.\u001b[0m\u001b[0mto_exception\u001b[0m\u001b[0;34m(\u001b[0m\u001b[0me\u001b[0m\u001b[0;34m)\u001b[0m\u001b[0;34m\u001b[0m\u001b[0;34m\u001b[0m\u001b[0m\n\u001b[0m\u001b[1;32m    995\u001b[0m             \u001b[0;32melse\u001b[0m\u001b[0;34m:\u001b[0m\u001b[0;34m\u001b[0m\u001b[0;34m\u001b[0m\u001b[0m\n\u001b[1;32m    996\u001b[0m               \u001b[0;32mraise\u001b[0m\u001b[0;34m\u001b[0m\u001b[0;34m\u001b[0m\u001b[0m\n",
      "\u001b[0;31mValueError\u001b[0m: in user code:\n\n    /home/sh4n1/.local/lib/python3.9/site-packages/keras/engine/training.py:1586 predict_function  *\n        return step_function(self, iterator)\n    /home/sh4n1/.local/lib/python3.9/site-packages/keras/engine/training.py:1576 step_function  **\n        outputs = model.distribute_strategy.run(run_step, args=(data,))\n    /home/sh4n1/.local/lib/python3.9/site-packages/tensorflow/python/distribute/distribute_lib.py:1286 run\n        return self._extended.call_for_each_replica(fn, args=args, kwargs=kwargs)\n    /home/sh4n1/.local/lib/python3.9/site-packages/tensorflow/python/distribute/distribute_lib.py:2849 call_for_each_replica\n        return self._call_for_each_replica(fn, args, kwargs)\n    /home/sh4n1/.local/lib/python3.9/site-packages/tensorflow/python/distribute/distribute_lib.py:3632 _call_for_each_replica\n        return fn(*args, **kwargs)\n    /home/sh4n1/.local/lib/python3.9/site-packages/keras/engine/training.py:1569 run_step  **\n        outputs = model.predict_step(data)\n    /home/sh4n1/.local/lib/python3.9/site-packages/keras/engine/training.py:1537 predict_step\n        return self(x, training=False)\n    /home/sh4n1/.local/lib/python3.9/site-packages/keras/engine/base_layer.py:1037 __call__\n        outputs = call_fn(inputs, *args, **kwargs)\n    /home/sh4n1/.local/lib/python3.9/site-packages/keras/engine/sequential.py:369 call\n        return super(Sequential, self).call(inputs, training=training, mask=mask)\n    /home/sh4n1/.local/lib/python3.9/site-packages/keras/engine/functional.py:414 call\n        return self._run_internal_graph(\n    /home/sh4n1/.local/lib/python3.9/site-packages/keras/engine/functional.py:550 _run_internal_graph\n        outputs = node.layer(*args, **kwargs)\n    /home/sh4n1/.local/lib/python3.9/site-packages/keras/layers/recurrent.py:659 __call__\n        return super(RNN, self).__call__(inputs, **kwargs)\n    /home/sh4n1/.local/lib/python3.9/site-packages/keras/engine/base_layer.py:1037 __call__\n        outputs = call_fn(inputs, *args, **kwargs)\n    /home/sh4n1/.local/lib/python3.9/site-packages/keras/layers/recurrent_v2.py:1253 call\n        runtime) = lstm_with_backend_selection(**normal_lstm_kwargs)\n    /home/sh4n1/.local/lib/python3.9/site-packages/keras/layers/recurrent_v2.py:1648 lstm_with_backend_selection\n        last_output, outputs, new_h, new_c, runtime = defun_standard_lstm(**params)\n    /home/sh4n1/.local/lib/python3.9/site-packages/tensorflow/python/eager/function.py:3038 __call__\n        filtered_flat_args) = self._maybe_define_function(args, kwargs)\n    /home/sh4n1/.local/lib/python3.9/site-packages/tensorflow/python/eager/function.py:3463 _maybe_define_function\n        graph_function = self._create_graph_function(args, kwargs)\n    /home/sh4n1/.local/lib/python3.9/site-packages/tensorflow/python/eager/function.py:3298 _create_graph_function\n        func_graph_module.func_graph_from_py_func(\n    /home/sh4n1/.local/lib/python3.9/site-packages/tensorflow/python/framework/func_graph.py:1007 func_graph_from_py_func\n        func_outputs = python_func(*func_args, **func_kwargs)\n    /home/sh4n1/.local/lib/python3.9/site-packages/keras/layers/recurrent_v2.py:1379 standard_lstm\n        last_output, outputs, new_states = backend.rnn(\n    /home/sh4n1/.local/lib/python3.9/site-packages/tensorflow/python/util/dispatch.py:206 wrapper\n        return target(*args, **kwargs)\n    /home/sh4n1/.local/lib/python3.9/site-packages/keras/backend.py:4351 rnn\n        [inp[0] for inp in flatted_inputs])\n    /home/sh4n1/.local/lib/python3.9/site-packages/keras/backend.py:4351 <listcomp>\n        [inp[0] for inp in flatted_inputs])\n    /home/sh4n1/.local/lib/python3.9/site-packages/tensorflow/python/util/dispatch.py:206 wrapper\n        return target(*args, **kwargs)\n    /home/sh4n1/.local/lib/python3.9/site-packages/tensorflow/python/ops/array_ops.py:1041 _slice_helper\n        return strided_slice(\n    /home/sh4n1/.local/lib/python3.9/site-packages/tensorflow/python/util/dispatch.py:206 wrapper\n        return target(*args, **kwargs)\n    /home/sh4n1/.local/lib/python3.9/site-packages/tensorflow/python/ops/array_ops.py:1214 strided_slice\n        op = gen_array_ops.strided_slice(\n    /home/sh4n1/.local/lib/python3.9/site-packages/tensorflow/python/ops/gen_array_ops.py:10538 strided_slice\n        _, _, _op, _outputs = _op_def_library._apply_op_helper(\n    /home/sh4n1/.local/lib/python3.9/site-packages/tensorflow/python/framework/op_def_library.py:748 _apply_op_helper\n        op = g._create_op_internal(op_type_name, inputs, dtypes=None,\n    /home/sh4n1/.local/lib/python3.9/site-packages/tensorflow/python/framework/func_graph.py:599 _create_op_internal\n        return super(FuncGraph, self)._create_op_internal(  # pylint: disable=protected-access\n    /home/sh4n1/.local/lib/python3.9/site-packages/tensorflow/python/framework/ops.py:3561 _create_op_internal\n        ret = Operation(\n    /home/sh4n1/.local/lib/python3.9/site-packages/tensorflow/python/framework/ops.py:2041 __init__\n        self._c_op = _create_c_op(self._graph, node_def, inputs,\n    /home/sh4n1/.local/lib/python3.9/site-packages/tensorflow/python/framework/ops.py:1883 _create_c_op\n        raise ValueError(str(e))\n\n    ValueError: slice index 0 of dimension 0 out of bounds. for '{{node strided_slice_1}} = StridedSlice[Index=DT_INT32, T=DT_FLOAT, begin_mask=0, ellipsis_mask=0, end_mask=0, new_axis_mask=0, shrink_axis_mask=1](transpose, strided_slice_1/stack, strided_slice_1/stack_1, strided_slice_1/stack_2)' with input shapes: [0,?,1], [1], [1], [1] and with computed input tensors: input[1] = <0>, input[2] = <1>, input[3] = <1>.\n"
     ]
    }
   ],
   "source": [
    "#import torch\n",
    "predicted_cpu_usage= model.predict(X_test)\n",
    "predicted_cpu_usage = sc.inverse_transform(predicted_cpu_usage)"
   ]
  },
  {
   "cell_type": "code",
   "execution_count": null,
   "id": "f7b539b6",
   "metadata": {},
   "outputs": [],
   "source": []
  },
  {
   "cell_type": "code",
   "execution_count": null,
   "id": "5879086d",
   "metadata": {},
   "outputs": [],
   "source": []
  },
  {
   "cell_type": "code",
   "execution_count": null,
   "id": "98c93188",
   "metadata": {},
   "outputs": [],
   "source": []
  }
 ],
 "metadata": {
  "kernelspec": {
   "display_name": "Python 3 (ipykernel)",
   "language": "python",
   "name": "python3"
  },
  "language_info": {
   "codemirror_mode": {
    "name": "ipython",
    "version": 3
   },
   "file_extension": ".py",
   "mimetype": "text/x-python",
   "name": "python",
   "nbconvert_exporter": "python",
   "pygments_lexer": "ipython3",
   "version": "3.9.7"
  }
 },
 "nbformat": 4,
 "nbformat_minor": 5
}
