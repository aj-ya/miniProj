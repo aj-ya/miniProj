{
 "cells": [
  {
   "cell_type": "code",
   "execution_count": 1,
   "id": "83e81f96",
   "metadata": {
    "scrolled": true
   },
   "outputs": [],
   "source": [
    "import numpy as np\n",
    "import pandas as pd\n",
    "import os"
   ]
  },
  {
   "cell_type": "code",
   "execution_count": 2,
   "id": "275ae0fa",
   "metadata": {},
   "outputs": [],
   "source": [
    "df=pd.read_csv('/home/sh4n1/miniProj/h1.csv')"
   ]
  },
  {
   "cell_type": "code",
   "execution_count": 3,
   "id": "11434441",
   "metadata": {},
   "outputs": [],
   "source": [
    "onlyCPU= df[['Timestamp','cpu_usage']].copy()\n",
    "onlyCPU.to_csv('h1cpudata.csv',index=False)"
   ]
  },
  {
   "cell_type": "code",
   "execution_count": 4,
   "id": "0ad41e5a",
   "metadata": {},
   "outputs": [
    {
     "data": {
      "text/html": [
       "<div>\n",
       "<style scoped>\n",
       "    .dataframe tbody tr th:only-of-type {\n",
       "        vertical-align: middle;\n",
       "    }\n",
       "\n",
       "    .dataframe tbody tr th {\n",
       "        vertical-align: top;\n",
       "    }\n",
       "\n",
       "    .dataframe thead th {\n",
       "        text-align: right;\n",
       "    }\n",
       "</style>\n",
       "<table border=\"1\" class=\"dataframe\">\n",
       "  <thead>\n",
       "    <tr style=\"text-align: right;\">\n",
       "      <th></th>\n",
       "      <th>Timestamp</th>\n",
       "      <th>cpu_usage</th>\n",
       "    </tr>\n",
       "  </thead>\n",
       "  <tbody>\n",
       "    <tr>\n",
       "      <th>0</th>\n",
       "      <td>1376314846</td>\n",
       "      <td>10912.027692</td>\n",
       "    </tr>\n",
       "    <tr>\n",
       "      <th>1</th>\n",
       "      <td>1376315146</td>\n",
       "      <td>10890.570362</td>\n",
       "    </tr>\n",
       "    <tr>\n",
       "      <th>2</th>\n",
       "      <td>1376315446</td>\n",
       "      <td>10434.114431</td>\n",
       "    </tr>\n",
       "    <tr>\n",
       "      <th>3</th>\n",
       "      <td>1376315746</td>\n",
       "      <td>10539.450415</td>\n",
       "    </tr>\n",
       "    <tr>\n",
       "      <th>4</th>\n",
       "      <td>1376316046</td>\n",
       "      <td>10951.041020</td>\n",
       "    </tr>\n",
       "  </tbody>\n",
       "</table>\n",
       "</div>"
      ],
      "text/plain": [
       "    Timestamp     cpu_usage\n",
       "0  1376314846  10912.027692\n",
       "1  1376315146  10890.570362\n",
       "2  1376315446  10434.114431\n",
       "3  1376315746  10539.450415\n",
       "4  1376316046  10951.041020"
      ]
     },
     "execution_count": 4,
     "metadata": {},
     "output_type": "execute_result"
    }
   ],
   "source": [
    "onlyCPU.head()"
   ]
  },
  {
   "cell_type": "code",
   "execution_count": 6,
   "id": "6687ff6d",
   "metadata": {},
   "outputs": [],
   "source": [
    "tt_split=int(len(onlyCPU.index)*7/10)\n",
    "#train-70% test-30%"
   ]
  },
  {
   "cell_type": "code",
   "execution_count": 8,
   "id": "ddd10da0",
   "metadata": {},
   "outputs": [
    {
     "name": "stdout",
     "output_type": "stream",
     "text": [
      "8634 6043\n"
     ]
    }
   ],
   "source": [
    "print(len(onlyCPU.index),tt_split)"
   ]
  },
  {
   "cell_type": "code",
   "execution_count": 15,
   "id": "684d44b9",
   "metadata": {},
   "outputs": [],
   "source": [
    "train_split=pd.read_csv('h1cpudata.csv',nrows=tt_split)\n",
    "test_split=pd.read_csv('h1cpudata.csv',skiprows=range(1,tt_split+1))\n",
    "#test and train split"
   ]
  },
  {
   "cell_type": "code",
   "execution_count": 16,
   "id": "7dd51d64",
   "metadata": {},
   "outputs": [
    {
     "data": {
      "text/html": [
       "<div>\n",
       "<style scoped>\n",
       "    .dataframe tbody tr th:only-of-type {\n",
       "        vertical-align: middle;\n",
       "    }\n",
       "\n",
       "    .dataframe tbody tr th {\n",
       "        vertical-align: top;\n",
       "    }\n",
       "\n",
       "    .dataframe thead th {\n",
       "        text-align: right;\n",
       "    }\n",
       "</style>\n",
       "<table border=\"1\" class=\"dataframe\">\n",
       "  <thead>\n",
       "    <tr style=\"text-align: right;\">\n",
       "      <th></th>\n",
       "      <th>Timestamp</th>\n",
       "      <th>cpu_usage</th>\n",
       "    </tr>\n",
       "  </thead>\n",
       "  <tbody>\n",
       "    <tr>\n",
       "      <th>0</th>\n",
       "      <td>1378129722</td>\n",
       "      <td>85.829320</td>\n",
       "    </tr>\n",
       "    <tr>\n",
       "      <th>1</th>\n",
       "      <td>1378130022</td>\n",
       "      <td>68.273323</td>\n",
       "    </tr>\n",
       "    <tr>\n",
       "      <th>2</th>\n",
       "      <td>1378130322</td>\n",
       "      <td>72.174656</td>\n",
       "    </tr>\n",
       "    <tr>\n",
       "      <th>3</th>\n",
       "      <td>1378130622</td>\n",
       "      <td>1576.138430</td>\n",
       "    </tr>\n",
       "    <tr>\n",
       "      <th>4</th>\n",
       "      <td>1378130922</td>\n",
       "      <td>78.026655</td>\n",
       "    </tr>\n",
       "  </tbody>\n",
       "</table>\n",
       "</div>"
      ],
      "text/plain": [
       "    Timestamp    cpu_usage\n",
       "0  1378129722    85.829320\n",
       "1  1378130022    68.273323\n",
       "2  1378130322    72.174656\n",
       "3  1378130622  1576.138430\n",
       "4  1378130922    78.026655"
      ]
     },
     "execution_count": 16,
     "metadata": {},
     "output_type": "execute_result"
    }
   ],
   "source": [
    "test_split.head()"
   ]
  },
  {
   "cell_type": "code",
   "execution_count": 19,
   "id": "467bbdcf",
   "metadata": {},
   "outputs": [
    {
     "name": "stdout",
     "output_type": "stream",
     "text": [
      "1378129422 1378129722\n"
     ]
    }
   ],
   "source": [
    "print(train_split['Timestamp'][6042],test_split['Timestamp'][0])\n",
    "#to check if the data is overlapping"
   ]
  },
  {
   "cell_type": "code",
   "execution_count": 20,
   "id": "745bb6cc",
   "metadata": {},
   "outputs": [],
   "source": [
    "train_split.to_csv('h1train.csv',index=False)\n",
    "test_split.to_csv('h1test.csv',index=False)\n",
    "#done i guess"
   ]
  },
  {
   "cell_type": "code",
   "execution_count": null,
   "id": "9399c279",
   "metadata": {},
   "outputs": [],
   "source": []
  }
 ],
 "metadata": {
  "kernelspec": {
   "display_name": "Python 3 (ipykernel)",
   "language": "python",
   "name": "python3"
  },
  "language_info": {
   "codemirror_mode": {
    "name": "ipython",
    "version": 3
   },
   "file_extension": ".py",
   "mimetype": "text/x-python",
   "name": "python",
   "nbconvert_exporter": "python",
   "pygments_lexer": "ipython3",
   "version": "3.9.7"
  }
 },
 "nbformat": 4,
 "nbformat_minor": 5
}
