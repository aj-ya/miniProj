{
 "cells": [
  {
   "cell_type": "code",
   "execution_count": 1,
   "id": "f5cb4a77",
   "metadata": {},
   "outputs": [],
   "source": [
    "import numpy as np\n",
    "import matplotlib.pyplot as plt\n",
    "import math\n",
    "from keras.models import Sequential\n",
    "from keras.layers import Dense\n",
    "from keras.layers import LSTM\n",
    "from sklearn.preprocessing import MinMaxScaler\n",
    "from sklearn.metrics import mean_squared_error\n",
    "import pandas as pd\n",
    "np.random.seed(7)"
   ]
  },
  {
   "cell_type": "code",
   "execution_count": 2,
   "id": "a5b4590e",
   "metadata": {},
   "outputs": [],
   "source": [
    "df=pd.read_csv(\"/home/sh4n1/miniproj/h1cpudata.csv\",usecols=[1])"
   ]
  },
  {
   "cell_type": "code",
   "execution_count": 3,
   "id": "0b9367d1",
   "metadata": {},
   "outputs": [
    {
     "data": {
      "text/html": [
       "<div>\n",
       "<style scoped>\n",
       "    .dataframe tbody tr th:only-of-type {\n",
       "        vertical-align: middle;\n",
       "    }\n",
       "\n",
       "    .dataframe tbody tr th {\n",
       "        vertical-align: top;\n",
       "    }\n",
       "\n",
       "    .dataframe thead th {\n",
       "        text-align: right;\n",
       "    }\n",
       "</style>\n",
       "<table border=\"1\" class=\"dataframe\">\n",
       "  <thead>\n",
       "    <tr style=\"text-align: right;\">\n",
       "      <th></th>\n",
       "      <th>Timestamp</th>\n",
       "      <th>cpu_usage</th>\n",
       "    </tr>\n",
       "  </thead>\n",
       "  <tbody>\n",
       "    <tr>\n",
       "      <th>0</th>\n",
       "      <td>1376314846</td>\n",
       "      <td>10912.027692</td>\n",
       "    </tr>\n",
       "    <tr>\n",
       "      <th>1</th>\n",
       "      <td>1376315146</td>\n",
       "      <td>10890.570362</td>\n",
       "    </tr>\n",
       "    <tr>\n",
       "      <th>2</th>\n",
       "      <td>1376315446</td>\n",
       "      <td>10434.114431</td>\n",
       "    </tr>\n",
       "    <tr>\n",
       "      <th>3</th>\n",
       "      <td>1376315746</td>\n",
       "      <td>10539.450415</td>\n",
       "    </tr>\n",
       "    <tr>\n",
       "      <th>4</th>\n",
       "      <td>1376316046</td>\n",
       "      <td>10951.041020</td>\n",
       "    </tr>\n",
       "  </tbody>\n",
       "</table>\n",
       "</div>"
      ],
      "text/plain": [
       "    Timestamp     cpu_usage\n",
       "0  1376314846  10912.027692\n",
       "1  1376315146  10890.570362\n",
       "2  1376315446  10434.114431\n",
       "3  1376315746  10539.450415\n",
       "4  1376316046  10951.041020"
      ]
     },
     "execution_count": 3,
     "metadata": {},
     "output_type": "execute_result"
    }
   ],
   "source": [
    "df.head()"
   ]
  },
  {
   "cell_type": "code",
   "execution_count": 4,
   "id": "4b663392",
   "metadata": {},
   "outputs": [
    {
     "data": {
      "image/png": "[encoded data removed]",
      "text/plain": [
       "<Figure size 432x288 with 1 Axes>"
      ]
     },
     "metadata": {
      "needs_background": "light"
     },
     "output_type": "display_data"
    }
   ],
   "source": [
    "plt.plot(df['cpu_usage'])\n",
    "#plt.xlim(0,20)\n",
    "plt.show()"
   ]
  },
  {
   "cell_type": "code",
   "execution_count": 13,
   "id": "22c50de3",
   "metadata": {},
   "outputs": [],
   "source": [
    "def create_dataset(dataset, look_back=1):\n",
    "\tdataX, dataY = [], []\n",
    "\tfor i in range(len(dataset)-look_back-1):\n",
    "\t\ta = dataset[i:(i+look_back), 0]\n",
    "\t\tdataX.append(a)\n",
    "\t\tdataY.append(dataset[i + look_back, 0])\n",
    "\treturn np.array(dataX), np.array(dataY)"
   ]
  },
  {
   "cell_type": "code",
   "execution_count": 10,
   "id": "26406a01",
   "metadata": {},
   "outputs": [],
   "source": [
    "scaler = MinMaxScaler(feature_range=(0, 1))\n",
    "dataset = df.values\n",
    "dataset = dataset.astype('float32')\n",
    "dataset = scaler.fit_transform(dataset)"
   ]
  },
  {
   "cell_type": "code",
   "execution_count": 11,
   "id": "db29ccac",
   "metadata": {},
   "outputs": [],
   "source": [
    "train_size = int(len(dataset) * 0.67)\n",
    "test_size = len(dataset) - train_size\n",
    "train, test = dataset[0:train_size,:], dataset[train_size:len(dataset),:]"
   ]
  },
  {
   "cell_type": "code",
   "execution_count": 14,
   "id": "84a52d1b",
   "metadata": {},
   "outputs": [],
   "source": [
    "look_back = 3\n",
    "trainX, trainY = create_dataset(train, look_back)\n",
    "testX, testY = create_dataset(test, look_back)"
   ]
  },
  {
   "cell_type": "code",
   "execution_count": 15,
   "id": "2e42963e",
   "metadata": {},
   "outputs": [],
   "source": [
    "trainX = np.reshape(trainX, (trainX.shape[0], trainX.shape[1], 1))\n",
    "testX = np.reshape(testX, (testX.shape[0], testX.shape[1], 1))"
   ]
  },
  {
   "cell_type": "code",
   "execution_count": null,
   "id": "d1999cc7",
   "metadata": {},
   "outputs": [
    {
     "name": "stderr",
     "output_type": "stream",
     "text": [
      "2021-11-10 21:53:38.688231: I tensorflow/compiler/mlir/mlir_graph_optimization_pass.cc:185] None of the MLIR Optimization Passes are enabled (registered 2)\n"
     ]
    },
    {
     "name": "stdout",
     "output_type": "stream",
     "text": [
      "Epoch 1/100\n",
      "5780/5780 - 21s - loss: 0.0030\n",
      "Epoch 2/100\n",
      "5780/5780 - 23s - loss: 0.0021\n",
      "Epoch 3/100\n",
      "5780/5780 - 20s - loss: 0.0020\n",
      "Epoch 4/100\n",
      "5780/5780 - 19s - loss: 0.0017\n",
      "Epoch 5/100\n",
      "5780/5780 - 19s - loss: 0.0015\n",
      "Epoch 6/100\n",
      "5780/5780 - 20s - loss: 0.0015\n",
      "Epoch 7/100\n",
      "5780/5780 - 4s - loss: 0.0014\n",
      "Epoch 8/100\n",
      "5780/5780 - 19s - loss: 0.0014\n",
      "Epoch 9/100\n",
      "5780/5780 - 20s - loss: 0.0014\n",
      "Epoch 10/100\n",
      "5780/5780 - 20s - loss: 0.0014\n",
      "Epoch 11/100\n",
      "5780/5780 - 20s - loss: 0.0014\n",
      "Epoch 12/100\n",
      "5780/5780 - 20s - loss: 0.0013\n",
      "Epoch 13/100\n",
      "5780/5780 - 20s - loss: 0.0014\n",
      "Epoch 14/100\n",
      "5780/5780 - 20s - loss: 0.0013\n",
      "Epoch 15/100\n",
      "5780/5780 - 20s - loss: 0.0014\n",
      "Epoch 16/100\n",
      "5780/5780 - 20s - loss: 0.0013\n",
      "Epoch 17/100\n",
      "5780/5780 - 20s - loss: 0.0014\n",
      "Epoch 18/100\n",
      "5780/5780 - 20s - loss: 0.0014\n",
      "Epoch 19/100\n",
      "5780/5780 - 20s - loss: 0.0013\n",
      "Epoch 20/100\n",
      "5780/5780 - 20s - loss: 0.0014\n",
      "Epoch 21/100\n",
      "5780/5780 - 20s - loss: 0.0013\n",
      "Epoch 22/100\n",
      "5780/5780 - 20s - loss: 0.0013\n",
      "Epoch 23/100\n",
      "5780/5780 - 20s - loss: 0.0013\n",
      "Epoch 24/100\n",
      "5780/5780 - 20s - loss: 0.0013\n",
      "Epoch 25/100\n",
      "5780/5780 - 20s - loss: 0.0013\n",
      "Epoch 26/100\n",
      "5780/5780 - 20s - loss: 0.0013\n",
      "Epoch 27/100\n",
      "5780/5780 - 20s - loss: 0.0013\n",
      "Epoch 28/100\n",
      "5780/5780 - 20s - loss: 0.0013\n",
      "Epoch 29/100\n",
      "5780/5780 - 20s - loss: 0.0013\n",
      "Epoch 30/100\n",
      "5780/5780 - 20s - loss: 0.0013\n",
      "Epoch 31/100\n",
      "5780/5780 - 20s - loss: 0.0013\n",
      "Epoch 32/100\n",
      "5780/5780 - 20s - loss: 0.0013\n",
      "Epoch 33/100\n",
      "5780/5780 - 20s - loss: 0.0013\n",
      "Epoch 34/100\n",
      "5780/5780 - 20s - loss: 0.0013\n",
      "Epoch 35/100\n",
      "5780/5780 - 20s - loss: 0.0013\n",
      "Epoch 36/100\n",
      "5780/5780 - 20s - loss: 0.0013\n",
      "Epoch 37/100\n",
      "5780/5780 - 20s - loss: 0.0013\n",
      "Epoch 38/100\n",
      "5780/5780 - 20s - loss: 0.0013\n",
      "Epoch 39/100\n",
      "5780/5780 - 20s - loss: 0.0013\n",
      "Epoch 40/100\n",
      "5780/5780 - 21s - loss: 0.0013\n",
      "Epoch 41/100\n",
      "5780/5780 - 20s - loss: 0.0013\n",
      "Epoch 42/100\n",
      "5780/5780 - 20s - loss: 0.0013\n",
      "Epoch 43/100\n",
      "5780/5780 - 21s - loss: 0.0013\n",
      "Epoch 44/100\n",
      "5780/5780 - 20s - loss: 0.0013\n",
      "Epoch 45/100\n",
      "5780/5780 - 20s - loss: 0.0013\n",
      "Epoch 46/100\n",
      "5780/5780 - 20s - loss: 0.0013\n",
      "Epoch 47/100\n",
      "5780/5780 - 20s - loss: 0.0013\n",
      "Epoch 48/100\n",
      "5780/5780 - 20s - loss: 0.0013\n",
      "Epoch 49/100\n",
      "5780/5780 - 20s - loss: 0.0013\n",
      "Epoch 50/100\n",
      "5780/5780 - 20s - loss: 0.0013\n",
      "Epoch 51/100\n",
      "5780/5780 - 20s - loss: 0.0013\n",
      "Epoch 52/100\n",
      "5780/5780 - 20s - loss: 0.0013\n",
      "Epoch 53/100\n",
      "5780/5780 - 20s - loss: 0.0013\n",
      "Epoch 54/100\n",
      "5780/5780 - 20s - loss: 0.0013\n",
      "Epoch 55/100\n",
      "5780/5780 - 20s - loss: 0.0013\n",
      "Epoch 56/100\n",
      "5780/5780 - 20s - loss: 0.0013\n",
      "Epoch 57/100\n",
      "5780/5780 - 20s - loss: 0.0013\n",
      "Epoch 58/100\n",
      "5780/5780 - 20s - loss: 0.0013\n",
      "Epoch 59/100\n",
      "5780/5780 - 20s - loss: 0.0013\n",
      "Epoch 60/100\n",
      "5780/5780 - 20s - loss: 0.0013\n",
      "Epoch 61/100\n",
      "5780/5780 - 20s - loss: 0.0013\n",
      "Epoch 62/100\n",
      "5780/5780 - 20s - loss: 0.0013\n",
      "Epoch 63/100\n",
      "5780/5780 - 20s - loss: 0.0013\n",
      "Epoch 64/100\n",
      "5780/5780 - 20s - loss: 0.0013\n",
      "Epoch 65/100\n",
      "5780/5780 - 20s - loss: 0.0013\n",
      "Epoch 66/100\n"
     ]
    }
   ],
   "source": [
    "model = Sequential()\n",
    "model.add(LSTM(4, input_shape=(look_back, 1)))\n",
    "model.add(Dense(1))\n",
    "model.compile(loss='mean_squared_error', optimizer='adam')\n",
    "model.fit(trainX, trainY, epochs=100, batch_size=1, verbose=2)"
   ]
  },
  {
   "cell_type": "code",
   "execution_count": null,
   "id": "9d0e818b",
   "metadata": {},
   "outputs": [],
   "source": [
    "trainPredict = model.predict(trainX)\n",
    "testPredict = model.predict(testX)"
   ]
  },
  {
   "cell_type": "code",
   "execution_count": null,
   "id": "a98857fa",
   "metadata": {},
   "outputs": [],
   "source": [
    "trainPredict = scaler.inverse_transform(trainPredict)\n",
    "trainY = scaler.inverse_transform([trainY])\n",
    "testPredict = scaler.inverse_transform(testPredict)\n",
    "testY = scaler.inverse_transform([testY])"
   ]
  },
  {
   "cell_type": "code",
   "execution_count": 25,
   "id": "ea654a02",
   "metadata": {},
   "outputs": [
    {
     "name": "stdout",
     "output_type": "stream",
     "text": [
      "Train Score: 391.39 RMSE\n",
      "Test Score: 953.44 RMSE\n"
     ]
    }
   ],
   "source": [
    "trainScore = math.sqrt(mean_squared_error(trainY[0], trainPredict[:,0]))\n",
    "print('Train Score: %.2f RMSE' % (trainScore))\n",
    "testScore = math.sqrt(mean_squared_error(testY[0], testPredict[:,0]))\n",
    "print('Test Score: %.2f RMSE' % (testScore))"
   ]
  },
  {
   "cell_type": "code",
   "execution_count": 26,
   "id": "073006cf",
   "metadata": {},
   "outputs": [],
   "source": [
    "trainPredictPlot = np.empty_like(dataset)\n",
    "trainPredictPlot[:, :] = np.nan\n",
    "trainPredictPlot[look_back:len(trainPredict)+look_back, :] = trainPredict"
   ]
  },
  {
   "cell_type": "code",
   "execution_count": 27,
   "id": "f5047f6c",
   "metadata": {},
   "outputs": [],
   "source": [
    "testPredictPlot = np.empty_like(dataset)\n",
    "testPredictPlot[:, :] = np.nan\n",
    "testPredictPlot[len(trainPredict)+(look_back*2)+1:len(dataset)-1, :] = testPredict"
   ]
  },
  {
   "cell_type": "code",
   "execution_count": 1,
   "id": "7ccf3986",
   "metadata": {},
   "outputs": [
    {
     "ename": "NameError",
     "evalue": "name 'plt' is not defined",
     "output_type": "error",
     "traceback": [
      "\u001b[0;31m---------------------------------------------------------------------------\u001b[0m",
      "\u001b[0;31mNameError\u001b[0m                                 Traceback (most recent call last)",
      "\u001b[0;32m/tmp/ipykernel_1640/2766468161.py\u001b[0m in \u001b[0;36m<module>\u001b[0;34m\u001b[0m\n\u001b[0;32m----> 1\u001b[0;31m \u001b[0mplt\u001b[0m\u001b[0;34m.\u001b[0m\u001b[0mplot\u001b[0m\u001b[0;34m(\u001b[0m\u001b[0mscaler\u001b[0m\u001b[0;34m.\u001b[0m\u001b[0minverse_transform\u001b[0m\u001b[0;34m(\u001b[0m\u001b[0mdataset\u001b[0m\u001b[0;34m)\u001b[0m\u001b[0;34m)\u001b[0m\u001b[0;34m\u001b[0m\u001b[0;34m\u001b[0m\u001b[0m\n\u001b[0m\u001b[1;32m      2\u001b[0m \u001b[0mplt\u001b[0m\u001b[0;34m.\u001b[0m\u001b[0mplot\u001b[0m\u001b[0;34m(\u001b[0m\u001b[0mtrainPredictPlot\u001b[0m\u001b[0;34m)\u001b[0m\u001b[0;34m\u001b[0m\u001b[0;34m\u001b[0m\u001b[0m\n\u001b[1;32m      3\u001b[0m \u001b[0mplt\u001b[0m\u001b[0;34m.\u001b[0m\u001b[0mplot\u001b[0m\u001b[0;34m(\u001b[0m\u001b[0mtestPredictPlot\u001b[0m\u001b[0;34m)\u001b[0m\u001b[0;34m\u001b[0m\u001b[0;34m\u001b[0m\u001b[0m\n\u001b[1;32m      4\u001b[0m \u001b[0mplt\u001b[0m\u001b[0;34m.\u001b[0m\u001b[0mxlim\u001b[0m\u001b[0;34m(\u001b[0m\u001b[0;36m0\u001b[0m\u001b[0;34m,\u001b[0m\u001b[0;36m20\u001b[0m\u001b[0;34m)\u001b[0m\u001b[0;34m\u001b[0m\u001b[0;34m\u001b[0m\u001b[0m\n\u001b[1;32m      5\u001b[0m \u001b[0mplt\u001b[0m\u001b[0;34m.\u001b[0m\u001b[0mshow\u001b[0m\u001b[0;34m(\u001b[0m\u001b[0;34m)\u001b[0m\u001b[0;34m\u001b[0m\u001b[0;34m\u001b[0m\u001b[0m\n",
      "\u001b[0;31mNameError\u001b[0m: name 'plt' is not defined"
     ]
    }
   ],
   "source": [
    "plt.plot(scaler.inverse_transform(dataset))\n",
    "plt.plot(trainPredictPlot)\n",
    "plt.plot(testPredictPlot)\n",
    "plt.xlim(0,20)\n",
    "plt.show()"
   ]
  },
  {
   "cell_type": "code",
   "execution_count": 29,
   "id": "6501d0ac",
   "metadata": {},
   "outputs": [],
   "source": [
    "model.save('lstm.h5')"
   ]
  },
  {
   "cell_type": "code",
   "execution_count": null,
   "id": "a39034b3",
   "metadata": {},
   "outputs": [],
   "source": []
  }
 ],
 "metadata": {
  "kernelspec": {
   "display_name": "Python 3 (ipykernel)",
   "language": "python",
   "name": "python3"
  },
  "language_info": {
   "codemirror_mode": {
    "name": "ipython",
    "version": 3
   },
   "file_extension": ".py",
   "mimetype": "text/x-python",
   "name": "python",
   "nbconvert_exporter": "python",
   "pygments_lexer": "ipython3",
   "version": "3.9.7"
  }
 },
 "nbformat": 4,
 "nbformat_minor": 5
}
